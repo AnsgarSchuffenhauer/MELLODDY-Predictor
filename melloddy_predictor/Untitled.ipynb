{
 "cells": [
  {
   "cell_type": "code",
   "execution_count": 11,
   "id": "22ca3540-0b60-484d-a1c9-c68b8ace1a46",
   "metadata": {},
   "outputs": [],
   "source": [
    "import scipy.sparse\n",
    "import numpy as np\n",
    "import torch"
   ]
  },
  {
   "cell_type": "code",
   "execution_count": 24,
   "id": "bf39cfe8-62ba-460f-93da-d70fd6e97ecb",
   "metadata": {},
   "outputs": [],
   "source": [
    "mat = scipy.sparse.coo_matrix([[0,1,0,2],[1,2,0,0],[0,0,1,1]])"
   ]
  },
  {
   "cell_type": "code",
   "execution_count": 13,
   "id": "b8696396-9c8f-4a96-b8c9-741e90146e69",
   "metadata": {},
   "outputs": [
    {
     "data": {
      "text/plain": [
       "(array([0, 0, 1, 1, 2, 2], dtype=int32),\n",
       " array([1, 3, 0, 1, 2, 3], dtype=int32))"
      ]
     },
     "execution_count": 13,
     "metadata": {},
     "output_type": "execute_result"
    }
   ],
   "source": [
    "mat.nonzero()"
   ]
  },
  {
   "cell_type": "code",
   "execution_count": 25,
   "id": "ae86da5c-e2ed-4929-99d0-8db17cc60196",
   "metadata": {},
   "outputs": [
    {
     "data": {
      "text/plain": [
       "array([0, 0, 1, 1, 2, 2], dtype=int32)"
      ]
     },
     "execution_count": 25,
     "metadata": {},
     "output_type": "execute_result"
    }
   ],
   "source": [
    "mat.row"
   ]
  },
  {
   "cell_type": "code",
   "execution_count": 26,
   "id": "9237902e-5ff1-4e54-ad51-d79fb77d00e2",
   "metadata": {},
   "outputs": [
    {
     "data": {
      "text/plain": [
       "array([1, 3, 0, 1, 2, 3], dtype=int32)"
      ]
     },
     "execution_count": 26,
     "metadata": {},
     "output_type": "execute_result"
    }
   ],
   "source": [
    "mat.col"
   ]
  },
  {
   "cell_type": "code",
   "execution_count": 16,
   "id": "5eea20fa-f4f4-463b-a51a-c9e36d02b603",
   "metadata": {},
   "outputs": [
    {
     "data": {
      "text/plain": [
       "[[0, 1], [0, 2], [1, 1], [1, 2], [2, 1], [2, 1]]"
      ]
     },
     "execution_count": 16,
     "metadata": {},
     "output_type": "execute_result"
    }
   ],
   "source": [
    "[[i,j] for i,j in zip(mat.row, mat.data)]"
   ]
  },
  {
   "cell_type": "code",
   "execution_count": 27,
   "id": "68ac3baf-b18a-47b3-bc56-1b07168b0ecb",
   "metadata": {},
   "outputs": [
    {
     "data": {
      "text/plain": [
       "array([1, 2, 1, 2, 1, 1])"
      ]
     },
     "execution_count": 27,
     "metadata": {},
     "output_type": "execute_result"
    }
   ],
   "source": [
    "mat.data"
   ]
  },
  {
   "cell_type": "code",
   "execution_count": 17,
   "id": "2567505d-4159-4c8d-922c-d57d4420981d",
   "metadata": {},
   "outputs": [],
   "source": [
    "x_tensor = torch.sparse_coo_tensor(indices = np.array([mat.row,mat.col]), values = mat.data, size = mat.shape)\n"
   ]
  },
  {
   "cell_type": "code",
   "execution_count": 18,
   "id": "4dcf07cf-d8b3-441b-9127-82192ac0fe84",
   "metadata": {},
   "outputs": [
    {
     "data": {
      "text/plain": [
       "(3, 4)"
      ]
     },
     "execution_count": 18,
     "metadata": {},
     "output_type": "execute_result"
    }
   ],
   "source": [
    "mat.shape"
   ]
  },
  {
   "cell_type": "code",
   "execution_count": 19,
   "id": "b90c2c6c-0852-4327-b22c-385affdbd170",
   "metadata": {},
   "outputs": [
    {
     "data": {
      "text/plain": [
       "tensor(indices=tensor([[0, 0, 1, 1, 2, 2],\n",
       "                       [1, 3, 0, 1, 2, 3]]),\n",
       "       values=tensor([1, 2, 1, 2, 1, 1]),\n",
       "       size=(3, 4), nnz=6, layout=torch.sparse_coo)"
      ]
     },
     "execution_count": 19,
     "metadata": {},
     "output_type": "execute_result"
    }
   ],
   "source": [
    "x_tensor"
   ]
  },
  {
   "cell_type": "code",
   "execution_count": 22,
   "id": "4355caba-13f7-455b-9223-8e3a583c8812",
   "metadata": {},
   "outputs": [
    {
     "data": {
      "text/plain": [
       "3"
      ]
     },
     "execution_count": 22,
     "metadata": {},
     "output_type": "execute_result"
    }
   ],
   "source": [
    "x_tensor.size(0)"
   ]
  },
  {
   "cell_type": "code",
   "execution_count": 23,
   "id": "64a0bc36-1146-4167-8046-7df7a9f8afcb",
   "metadata": {},
   "outputs": [
    {
     "data": {
      "text/plain": [
       "torch.Tensor"
      ]
     },
     "execution_count": 23,
     "metadata": {},
     "output_type": "execute_result"
    }
   ],
   "source": [
    "type(x_tensor)"
   ]
  },
  {
   "cell_type": "code",
   "execution_count": 9,
   "id": "aa34730a-dea7-48a0-a9eb-988fe6666fc0",
   "metadata": {},
   "outputs": [],
   "source": [
    "import numpy as np"
   ]
  },
  {
   "cell_type": "code",
   "execution_count": 12,
   "id": "3d2e6204-aa13-4e23-a58e-181107ccd65b",
   "metadata": {},
   "outputs": [
    {
     "data": {
      "text/plain": [
       "array([[0, 0, 1, 1, 2, 2],\n",
       "       [1, 3, 0, 1, 2, 3]], dtype=int32)"
      ]
     },
     "execution_count": 12,
     "metadata": {},
     "output_type": "execute_result"
    }
   ],
   "source": []
  },
  {
   "cell_type": "code",
   "execution_count": 14,
   "id": "ce9bb3b4-586f-4a82-814d-fb05020d49f6",
   "metadata": {},
   "outputs": [],
   "source": [
    "indices = np.array([mat.row,mat.col])"
   ]
  },
  {
   "cell_type": "code",
   "execution_count": 15,
   "id": "bee6c543-7777-4e24-b137-a04e63c95ceb",
   "metadata": {},
   "outputs": [
    {
     "data": {
      "text/plain": [
       "numpy.ndarray"
      ]
     },
     "execution_count": 15,
     "metadata": {},
     "output_type": "execute_result"
    }
   ],
   "source": [
    "type(indices)"
   ]
  },
  {
   "cell_type": "code",
   "execution_count": 19,
   "id": "4586f079-d208-4ab5-91e8-323e134995c4",
   "metadata": {},
   "outputs": [],
   "source": [
    "def csr_to_torch_coo(csr_mat):\n",
    "    coo_mat = csr_mat.tocoo()\n",
    "    return torch.sparse_coo_tensor(indices = np.array([coo_mat.row,coo_mat.col]), values = coo_mat.data, size = coo_mat.shape)"
   ]
  },
  {
   "cell_type": "code",
   "execution_count": 20,
   "id": "5251c9ce-508f-4df8-a8e2-03e25a9c1f2c",
   "metadata": {},
   "outputs": [],
   "source": [
    "cmat = scipy.sparse.csr_matrix([[0,1,0,2],[1,2,0,0],[0,0,1,1]])"
   ]
  },
  {
   "cell_type": "code",
   "execution_count": 21,
   "id": "0391eaf5-f3a3-4970-9b0f-48f8fbcfd456",
   "metadata": {},
   "outputs": [],
   "source": [
    "coo_tensor = csr_to_torch_coo(cmat)"
   ]
  },
  {
   "cell_type": "code",
   "execution_count": 22,
   "id": "583d2cf4-a382-46f8-86a7-6d1a51fa0c65",
   "metadata": {},
   "outputs": [
    {
     "data": {
      "text/plain": [
       "tensor(indices=tensor([[0, 0, 1, 1, 2, 2],\n",
       "                       [1, 3, 0, 1, 2, 3]]),\n",
       "       values=tensor([1, 2, 1, 2, 1, 1]),\n",
       "       size=(3, 4), nnz=6, layout=torch.sparse_coo)"
      ]
     },
     "execution_count": 22,
     "metadata": {},
     "output_type": "execute_result"
    }
   ],
   "source": [
    "coo_tensor"
   ]
  },
  {
   "cell_type": "code",
   "execution_count": 3,
   "id": "b7a6928e-4f06-4729-af1a-366638b82395",
   "metadata": {},
   "outputs": [
    {
     "data": {
      "text/plain": [
       "pandas.core.series.Series"
      ]
     },
     "execution_count": 3,
     "metadata": {},
     "output_type": "execute_result"
    }
   ],
   "source": [
    "ser = pd.Series([1,2,3])\n",
    "type(ser)"
   ]
  },
  {
   "cell_type": "code",
   "execution_count": 2,
   "id": "8b83956c-8ec2-4e35-bd4d-2b30c15abf2e",
   "metadata": {},
   "outputs": [],
   "source": [
    "import pandas as pd"
   ]
  },
  {
   "cell_type": "code",
   "execution_count": 6,
   "id": "72cbcc24-f4db-4992-be87-9837d04e89ae",
   "metadata": {},
   "outputs": [
    {
     "data": {
      "text/plain": [
       "True"
      ]
     },
     "execution_count": 6,
     "metadata": {},
     "output_type": "execute_result"
    }
   ],
   "source": [
    "type(ser) == pd.Series"
   ]
  },
  {
   "cell_type": "code",
   "execution_count": 7,
   "id": "e31d160c-2e51-4ccf-94ee-ac69ba45a095",
   "metadata": {},
   "outputs": [
    {
     "data": {
      "text/plain": [
       "dtype('int64')"
      ]
     },
     "execution_count": 7,
     "metadata": {},
     "output_type": "execute_result"
    }
   ],
   "source": [
    "ser.dtype"
   ]
  },
  {
   "cell_type": "code",
   "execution_count": 8,
   "id": "1af77b0f-11dc-48c5-a3e7-a36dd33accc6",
   "metadata": {},
   "outputs": [
    {
     "data": {
      "text/plain": [
       "True"
      ]
     },
     "execution_count": 8,
     "metadata": {},
     "output_type": "execute_result"
    }
   ],
   "source": [
    "ser.dtype == int"
   ]
  },
  {
   "cell_type": "code",
   "execution_count": 11,
   "id": "21d08da8-08c1-4dfa-a09e-778d4014f216",
   "metadata": {},
   "outputs": [
    {
     "data": {
      "text/plain": [
       "True"
      ]
     },
     "execution_count": 11,
     "metadata": {},
     "output_type": "execute_result"
    }
   ],
   "source": [
    "ser.is_unique"
   ]
  },
  {
   "cell_type": "code",
   "execution_count": 13,
   "id": "156095fe-905f-4870-8f53-52cfb48a2182",
   "metadata": {},
   "outputs": [],
   "source": [
    "import numpy as np"
   ]
  },
  {
   "cell_type": "code",
   "execution_count": 14,
   "id": "096d693d-3aec-44f6-84c3-19af6cd24864",
   "metadata": {},
   "outputs": [],
   "source": [
    "a = np.array([[0,1,0,2],[1,2,0,0],[0,0,1,1]])"
   ]
  },
  {
   "cell_type": "code",
   "execution_count": 16,
   "id": "717f6e1b-3226-404b-afb5-e70f5715250f",
   "metadata": {},
   "outputs": [
    {
     "data": {
      "text/plain": [
       "array([[1, 0],\n",
       "       [2, 0],\n",
       "       [0, 1]])"
      ]
     },
     "execution_count": 16,
     "metadata": {},
     "output_type": "execute_result"
    }
   ],
   "source": [
    "a[0,[1,2]]"
   ]
  },
  {
   "cell_type": "code",
   "execution_count": 22,
   "id": "0dda78e7-7ba3-41ea-8833-0395af42331d",
   "metadata": {},
   "outputs": [],
   "source": [
    "test_ser = pd.Series({'A':1,'B':2})\n",
    "test_ser2 = pd.Series({'A':1,'C':3})\n",
    "test_ser3 = pd.Series({'D':1,'C':3})"
   ]
  },
  {
   "cell_type": "code",
   "execution_count": 23,
   "id": "50f923ff-e36d-49c0-9e47-29007a2ab3aa",
   "metadata": {},
   "outputs": [
    {
     "data": {
      "text/plain": [
       "A    1\n",
       "B    2\n",
       "dtype: int64"
      ]
     },
     "execution_count": 23,
     "metadata": {},
     "output_type": "execute_result"
    }
   ],
   "source": [
    "test_ser"
   ]
  },
  {
   "cell_type": "code",
   "execution_count": 24,
   "id": "0a81d43a-0893-4934-8269-4dbb1487fdf8",
   "metadata": {},
   "outputs": [
    {
     "data": {
      "text/plain": [
       "A    1\n",
       "B    0\n",
       "dtype: int64"
      ]
     },
     "execution_count": 24,
     "metadata": {},
     "output_type": "execute_result"
    }
   ],
   "source": [
    "pd.Series(a[0,test_ser.values],index=test_ser.index)"
   ]
  },
  {
   "cell_type": "code",
   "execution_count": 29,
   "id": "f5622702-fa00-4f48-80be-f1b9aa9aaa89",
   "metadata": {},
   "outputs": [
    {
     "data": {
      "text/plain": [
       "1"
      ]
     },
     "execution_count": 29,
     "metadata": {},
     "output_type": "execute_result"
    }
   ],
   "source": [
    "test_ser2.index.intersection(test_ser.index).size"
   ]
  },
  {
   "cell_type": "code",
   "execution_count": null,
   "id": "6911f567-e6f7-445d-a6a3-6dcc55d55eb6",
   "metadata": {},
   "outputs": [],
   "source": [
    "test"
   ]
  }
 ],
 "metadata": {
  "kernelspec": {
   "display_name": "PythonDS v1.1",
   "language": "python",
   "name": "py_v1.1"
  },
  "language_info": {
   "codemirror_mode": {
    "name": "ipython",
    "version": 3
   },
   "file_extension": ".py",
   "mimetype": "text/x-python",
   "name": "python",
   "nbconvert_exporter": "python",
   "pygments_lexer": "ipython3",
   "version": "3.8.13"
  }
 },
 "nbformat": 4,
 "nbformat_minor": 5
}
