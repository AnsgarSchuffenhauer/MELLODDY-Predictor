{
 "cells": [
  {
   "cell_type": "code",
   "execution_count": 1,
   "id": "e007c1cd-a9a6-45f7-8771-b237604ca465",
   "metadata": {},
   "outputs": [
    {
     "name": "stderr",
     "output_type": "stream",
     "text": [
      "/home/schufan1/.conda/envs/melloddy_peipeline_dev/lib/python3.8/site-packages/tqdm/auto.py:22: TqdmWarning: IProgress not found. Please update jupyter and ipywidgets. See https://ipywidgets.readthedocs.io/en/stable/user_install.html\n",
      "  from .autonotebook import tqdm as notebook_tqdm\n"
     ]
    }
   ],
   "source": [
    "import numpy as np\n",
    "import pandas as pd\n",
    "import torch\n",
    "from scipy.sparse import save_npz, load_npz\n",
    "import os\n",
    "import json"
   ]
  },
  {
   "cell_type": "code",
   "execution_count": 2,
   "id": "53b96c4e-a83a-438b-b192-9c1ff6025ac8",
   "metadata": {},
   "outputs": [],
   "source": [
    "from melloddy_tuner.utils.single_row_prep2pred import SingleRowPreparator\n",
    "from  melloddy_predictor.predictor_single import PredictorSingle\n",
    "\n",
    "from melloddy_tuner.tunercli import do_prepare_prediction_online\n",
    "\n",
    "from melloddy_tuner.utils.standardizer import Standardizer\n",
    "from melloddy_tuner.utils.descriptor_calculator import DescriptorCalculator"
   ]
  },
  {
   "cell_type": "markdown",
   "id": "e1dad79b-2f44-4428-9e03-e6711932f59a",
   "metadata": {},
   "source": [
    "Specify environment and paths"
   ]
  },
  {
   "cell_type": "code",
   "execution_count": 3,
   "id": "584d0f25-a7ed-4656-b57c-79288ea75c6d",
   "metadata": {},
   "outputs": [],
   "source": [
    "#conda environment to use when running shell script for reference output\n",
    "conda_env = \" melloddy_peipeline_dev\"\n",
    "\n",
    "root_path = \"/home/schufan1/projects/Melloddy/git_repos/melloddy_predictor\"\n",
    "test_path = os.path.join(root_path,\"tests/begin_to_end_test\")\n",
    "model_path = os.path.join(root_path,\"inputs/models\")\n",
    "config_path = os.path.join(root_path,\"inputs/config\")\n",
    "\n",
    "params_file = os.path.join(config_path,\"example_parameters.json\")\n",
    "key_file = os.path.join(config_path,\"example_key.json\")\n",
    "\n",
    "tunercli_path = \"/home/schufan1/projects/Melloddy/git_repos/data_prep/melloddy_tuner\"\n",
    "predict_py_path = \"/home/schufan1/projects/Melloddy/git_repos/sparsechem/sparsechem\""
   ]
  },
  {
   "cell_type": "markdown",
   "id": "0a669d0b-dd7e-4adb-b76c-c2c25c1419ad",
   "metadata": {},
   "source": [
    "read input data"
   ]
  },
  {
   "cell_type": "code",
   "execution_count": 4,
   "id": "bdcef58d-f24f-4406-91ad-7217f8544b45",
   "metadata": {},
   "outputs": [
    {
     "data": {
      "text/html": [
       "<div>\n",
       "<style scoped>\n",
       "    .dataframe tbody tr th:only-of-type {\n",
       "        vertical-align: middle;\n",
       "    }\n",
       "\n",
       "    .dataframe tbody tr th {\n",
       "        vertical-align: top;\n",
       "    }\n",
       "\n",
       "    .dataframe thead th {\n",
       "        text-align: right;\n",
       "    }\n",
       "</style>\n",
       "<table border=\"1\" class=\"dataframe\">\n",
       "  <thead>\n",
       "    <tr style=\"text-align: right;\">\n",
       "      <th></th>\n",
       "      <th>Unnamed: 0</th>\n",
       "      <th>input_compound_id</th>\n",
       "      <th>smiles</th>\n",
       "    </tr>\n",
       "  </thead>\n",
       "  <tbody>\n",
       "    <tr>\n",
       "      <th>0</th>\n",
       "      <td>80540</td>\n",
       "      <td>836392</td>\n",
       "      <td>Cc1ccc2ncccc2c1</td>\n",
       "    </tr>\n",
       "    <tr>\n",
       "      <th>1</th>\n",
       "      <td>319232</td>\n",
       "      <td>1835024</td>\n",
       "      <td>CCNC(=O)c1cc(C(C)Nc2cc(F)cc(F)c2)c3OC(=CC(=O)c...</td>\n",
       "    </tr>\n",
       "    <tr>\n",
       "      <th>2</th>\n",
       "      <td>89421</td>\n",
       "      <td>829337</td>\n",
       "      <td>CCOc1ccc(cc1)C(=O)c2cc(ccc2N3CCOCC3)[N+](=O)[O-]</td>\n",
       "    </tr>\n",
       "    <tr>\n",
       "      <th>3</th>\n",
       "      <td>353802</td>\n",
       "      <td>1020194</td>\n",
       "      <td>Oc1nc(CSc2nnc(Cc3ccccc3)n2CC=C)nc4ccccc14</td>\n",
       "    </tr>\n",
       "    <tr>\n",
       "      <th>4</th>\n",
       "      <td>466566</td>\n",
       "      <td>1520639</td>\n",
       "      <td>Cc1cc(nn1c2cccc(Oc3ccc(cc3C#N)S(=O)(=O)Nc4nccs...</td>\n",
       "    </tr>\n",
       "  </tbody>\n",
       "</table>\n",
       "</div>"
      ],
      "text/plain": [
       "   Unnamed: 0  input_compound_id  \\\n",
       "0       80540             836392   \n",
       "1      319232            1835024   \n",
       "2       89421             829337   \n",
       "3      353802            1020194   \n",
       "4      466566            1520639   \n",
       "\n",
       "                                              smiles  \n",
       "0                                    Cc1ccc2ncccc2c1  \n",
       "1  CCNC(=O)c1cc(C(C)Nc2cc(F)cc(F)c2)c3OC(=CC(=O)c...  \n",
       "2   CCOc1ccc(cc1)C(=O)c2cc(ccc2N3CCOCC3)[N+](=O)[O-]  \n",
       "3          Oc1nc(CSc2nnc(Cc3ccccc3)n2CC=C)nc4ccccc14  \n",
       "4  Cc1cc(nn1c2cccc(Oc3ccc(cc3C#N)S(=O)(=O)Nc4nccs...  "
      ]
     },
     "execution_count": 4,
     "metadata": {},
     "output_type": "execute_result"
    }
   ],
   "source": [
    "smiles_df = pd.read_csv(os.path.join(test_path,\"T2_100samples.csv\"))\n",
    "smiles_df.head()"
   ]
  },
  {
   "cell_type": "markdown",
   "id": "17197f21-26a1-48e7-ab5d-dd9701f1a8c6",
   "metadata": {},
   "source": [
    "pepare the x-matrix with conventional functions"
   ]
  },
  {
   "cell_type": "code",
   "execution_count": 5,
   "id": "06e70330-b36b-42a6-8f84-9901b41014d8",
   "metadata": {},
   "outputs": [
    {
     "name": "stdout",
     "output_type": "stream",
     "text": [
      "Read new config file.\n",
      "Read new key file.\n"
     ]
    }
   ],
   "source": [
    "x_matrix, df_failed, mapping_table = do_prepare_prediction_online(input_structure = smiles_df, key_path = key_file, config_file = params_file, num_cpu = 1)\n",
    "\n",
    "mt_out_folder = os.path.join(test_path, \"mt_output\")\n",
    "os.makedirs(mt_out_folder,exist_ok=True)\n",
    "save_npz(os.path.join(mt_out_folder,\"pred_x.npz\"), x_matrix)\n",
    "mapping_table.to_csv(os.path.join(mt_out_folder,\"mapping_table.csv\"),index=False)"
   ]
  },
  {
   "cell_type": "markdown",
   "id": "05206d54-8ed4-4508-9c4d-9652f0ea64fe",
   "metadata": {},
   "source": [
    "create script to generate reference output"
   ]
  },
  {
   "cell_type": "code",
   "execution_count": 6,
   "id": "b5aa2eb6-e685-4d63-8569-a1d9ca252899",
   "metadata": {},
   "outputs": [
    {
     "data": {
      "text/plain": [
       "'\\nconda activate  melloddy_peipeline_dev\\n\\ncd /home/schufan1/projects/Melloddy/git_repos/sparsechem/sparsechem\\nmkdir -p /home/schufan1/projects/Melloddy/git_repos/melloddy_predictor/tests/begin_to_end_test/sc_output\\npython predict.py --x /home/schufan1/projects/Melloddy/git_repos/melloddy_predictor/tests/begin_to_end_test/mt_output/pred_x.npz --dev cpu --conf /home/schufan1/projects/Melloddy/git_repos/melloddy_predictor/inputs/models/example_cls_model/hyperparameters.json --model /home/schufan1/projects/Melloddy/git_repos/melloddy_predictor/inputs/models/example_cls_model/model.pth --outprefix /home/schufan1/projects/Melloddy/git_repos/melloddy_predictor/tests/begin_to_end_test/sc_output/cls_model\\npython predict.py --x /home/schufan1/projects/Melloddy/git_repos/melloddy_predictor/tests/begin_to_end_test/mt_output/pred_x.npz --dev cpu --conf /home/schufan1/projects/Melloddy/git_repos/melloddy_predictor/inputs/models/example_clsaux_model/hyperparameters.json --model /home/schufan1/projects/Melloddy/git_repos/melloddy_predictor/inputs/models/example_clsaux_model/model.pth --outprefix /home/schufan1/projects/Melloddy/git_repos/melloddy_predictor/tests/begin_to_end_test/sc_output/clsaux_model\\npython predict.py --x /home/schufan1/projects/Melloddy/git_repos/melloddy_predictor/tests/begin_to_end_test/mt_output/pred_x.npz --dev cpu --conf /home/schufan1/projects/Melloddy/git_repos/melloddy_predictor/inputs/models/example_reg_model/hyperparameters.json --model /home/schufan1/projects/Melloddy/git_repos/melloddy_predictor/inputs/models/example_reg_model/model.pth --outprefix /home/schufan1/projects/Melloddy/git_repos/melloddy_predictor/tests/begin_to_end_test/sc_output/reg_model --inverse_normalization 1\\npython predict.py --x /home/schufan1/projects/Melloddy/git_repos/melloddy_predictor/tests/begin_to_end_test/mt_output/pred_x.npz --dev cpu --conf /home/schufan1/projects/Melloddy/git_repos/melloddy_predictor/inputs/models/example_hyb_model/hyperparameters.json --model /home/schufan1/projects/Melloddy/git_repos/melloddy_predictor/inputs/models/example_hyb_model/model.pth --outprefix /home/schufan1/projects/Melloddy/git_repos/melloddy_predictor/tests/begin_to_end_test/sc_output/hyb_model --inverse_normalization 1\\n'"
      ]
     },
     "execution_count": 6,
     "metadata": {},
     "output_type": "execute_result"
    }
   ],
   "source": [
    "script = \"\"\"\n",
    "conda activate {cenv}\n",
    "\n",
    "cd {sp_path}\n",
    "mkdir -p {test_path}/sc_output\n",
    "python predict.py --x {test_path}/mt_output/pred_x.npz --dev cpu --conf {model_path}/example_cls_model/hyperparameters.json --model {model_path}/example_cls_model/model.pth --outprefix {test_path}/sc_output/cls_model\n",
    "python predict.py --x {test_path}/mt_output/pred_x.npz --dev cpu --conf {model_path}/example_clsaux_model/hyperparameters.json --model {model_path}/example_clsaux_model/model.pth --outprefix {test_path}/sc_output/clsaux_model\n",
    "python predict.py --x {test_path}/mt_output/pred_x.npz --dev cpu --conf {model_path}/example_reg_model/hyperparameters.json --model {model_path}/example_reg_model/model.pth --outprefix {test_path}/sc_output/reg_model --inverse_normalization 1\n",
    "python predict.py --x {test_path}/mt_output/pred_x.npz --dev cpu --conf {model_path}/example_hyb_model/hyperparameters.json --model {model_path}/example_hyb_model/model.pth --outprefix {test_path}/sc_output/hyb_model --inverse_normalization 1\n",
    "\"\"\"\n",
    "ref_gen_sh = script.format(tcpath=tunercli_path,test_path=test_path,pfile=params_file,kfile=key_file,sp_path=predict_py_path,model_path=model_path,cenv=conda_env)\n",
    "ref_gen_sh"
   ]
  },
  {
   "cell_type": "code",
   "execution_count": 7,
   "id": "a1e27a2f-cfad-444b-9833-b21dc68efadf",
   "metadata": {},
   "outputs": [],
   "source": [
    "script_file_name = os.path.join(test_path,\"make_reference_output.sh\")\n",
    "with open(script_file_name ,\"w\") as script_file:\n",
    "    script_file.write(ref_gen_sh)"
   ]
  },
  {
   "cell_type": "markdown",
   "id": "bb17da5b-f804-4acf-8a0b-d7b5ac189346",
   "metadata": {},
   "source": [
    "**You need now to generate you reference outpt as egnerated through the command line tools** . Launch the command as generated by the output below in a shell"
   ]
  },
  {
   "cell_type": "code",
   "execution_count": 8,
   "id": "4c51d345-ae88-4cde-bee9-edd2a4f01d02",
   "metadata": {},
   "outputs": [
    {
     "name": "stdout",
     "output_type": "stream",
     "text": [
      "source /home/schufan1/projects/Melloddy/git_repos/melloddy_predictor/tests/begin_to_end_test/make_reference_output.sh\n"
     ]
    }
   ],
   "source": [
    "print(\"source \"+script_file_name)"
   ]
  },
  {
   "cell_type": "markdown",
   "id": "9169e8f8-0f3c-4186-a730-0ce51ef121ea",
   "metadata": {},
   "source": [
    "Read the reference input"
   ]
  },
  {
   "cell_type": "markdown",
   "id": "3b1e717d-c3b0-4537-ac62-83a12adfa7b9",
   "metadata": {},
   "source": [
    "generate X-input from smiles"
   ]
  },
  {
   "cell_type": "code",
   "execution_count": 11,
   "id": "59807f9d-8767-463f-a5c6-9d91ef301551",
   "metadata": {},
   "outputs": [],
   "source": [
    "my_srprep = SingleRowPreparator(params = params_file, secret = key_file)"
   ]
  },
  {
   "cell_type": "code",
   "execution_count": 12,
   "id": "7ec69ee9-0471-40f3-a279-a5599063d23f",
   "metadata": {},
   "outputs": [],
   "source": [
    "x_tensors_test = {k:my_srprep.process_smiles(smi) for k,smi in smiles_df.set_index(\"input_compound_id\")[\"smiles\"].items()}"
   ]
  },
  {
   "cell_type": "code",
   "execution_count": 13,
   "id": "f38634bd-b280-4ac4-a73c-5627e0b58d4e",
   "metadata": {},
   "outputs": [],
   "source": [
    "x_dataframe_test = pd.concat({ix:pd.Series(v.to_dense().numpy()[0]) for ix,v in x_tensors_test.items()}).unstack().astype(\"int8\")"
   ]
  },
  {
   "cell_type": "code",
   "execution_count": 14,
   "id": "7211e3dd-11ba-4a0d-8df1-8d91fcde151d",
   "metadata": {},
   "outputs": [
    {
     "data": {
      "text/html": [
       "<div>\n",
       "<style scoped>\n",
       "    .dataframe tbody tr th:only-of-type {\n",
       "        vertical-align: middle;\n",
       "    }\n",
       "\n",
       "    .dataframe tbody tr th {\n",
       "        vertical-align: top;\n",
       "    }\n",
       "\n",
       "    .dataframe thead th {\n",
       "        text-align: right;\n",
       "    }\n",
       "</style>\n",
       "<table border=\"1\" class=\"dataframe\">\n",
       "  <thead>\n",
       "    <tr style=\"text-align: right;\">\n",
       "      <th></th>\n",
       "      <th>0</th>\n",
       "      <th>1</th>\n",
       "      <th>2</th>\n",
       "      <th>3</th>\n",
       "      <th>4</th>\n",
       "      <th>5</th>\n",
       "      <th>6</th>\n",
       "      <th>7</th>\n",
       "      <th>8</th>\n",
       "      <th>9</th>\n",
       "      <th>...</th>\n",
       "      <th>31990</th>\n",
       "      <th>31991</th>\n",
       "      <th>31992</th>\n",
       "      <th>31993</th>\n",
       "      <th>31994</th>\n",
       "      <th>31995</th>\n",
       "      <th>31996</th>\n",
       "      <th>31997</th>\n",
       "      <th>31998</th>\n",
       "      <th>31999</th>\n",
       "    </tr>\n",
       "  </thead>\n",
       "  <tbody>\n",
       "    <tr>\n",
       "      <th>836392</th>\n",
       "      <td>0</td>\n",
       "      <td>0</td>\n",
       "      <td>0</td>\n",
       "      <td>0</td>\n",
       "      <td>0</td>\n",
       "      <td>0</td>\n",
       "      <td>0</td>\n",
       "      <td>0</td>\n",
       "      <td>0</td>\n",
       "      <td>0</td>\n",
       "      <td>...</td>\n",
       "      <td>0</td>\n",
       "      <td>0</td>\n",
       "      <td>0</td>\n",
       "      <td>0</td>\n",
       "      <td>0</td>\n",
       "      <td>0</td>\n",
       "      <td>0</td>\n",
       "      <td>0</td>\n",
       "      <td>0</td>\n",
       "      <td>0</td>\n",
       "    </tr>\n",
       "    <tr>\n",
       "      <th>1835024</th>\n",
       "      <td>0</td>\n",
       "      <td>0</td>\n",
       "      <td>0</td>\n",
       "      <td>0</td>\n",
       "      <td>0</td>\n",
       "      <td>0</td>\n",
       "      <td>0</td>\n",
       "      <td>0</td>\n",
       "      <td>0</td>\n",
       "      <td>0</td>\n",
       "      <td>...</td>\n",
       "      <td>0</td>\n",
       "      <td>0</td>\n",
       "      <td>0</td>\n",
       "      <td>0</td>\n",
       "      <td>0</td>\n",
       "      <td>0</td>\n",
       "      <td>0</td>\n",
       "      <td>0</td>\n",
       "      <td>0</td>\n",
       "      <td>0</td>\n",
       "    </tr>\n",
       "    <tr>\n",
       "      <th>829337</th>\n",
       "      <td>0</td>\n",
       "      <td>0</td>\n",
       "      <td>0</td>\n",
       "      <td>0</td>\n",
       "      <td>0</td>\n",
       "      <td>0</td>\n",
       "      <td>0</td>\n",
       "      <td>0</td>\n",
       "      <td>0</td>\n",
       "      <td>0</td>\n",
       "      <td>...</td>\n",
       "      <td>0</td>\n",
       "      <td>0</td>\n",
       "      <td>0</td>\n",
       "      <td>0</td>\n",
       "      <td>0</td>\n",
       "      <td>0</td>\n",
       "      <td>0</td>\n",
       "      <td>0</td>\n",
       "      <td>0</td>\n",
       "      <td>0</td>\n",
       "    </tr>\n",
       "    <tr>\n",
       "      <th>1020194</th>\n",
       "      <td>0</td>\n",
       "      <td>0</td>\n",
       "      <td>0</td>\n",
       "      <td>0</td>\n",
       "      <td>0</td>\n",
       "      <td>0</td>\n",
       "      <td>0</td>\n",
       "      <td>0</td>\n",
       "      <td>0</td>\n",
       "      <td>0</td>\n",
       "      <td>...</td>\n",
       "      <td>0</td>\n",
       "      <td>0</td>\n",
       "      <td>0</td>\n",
       "      <td>0</td>\n",
       "      <td>0</td>\n",
       "      <td>0</td>\n",
       "      <td>0</td>\n",
       "      <td>0</td>\n",
       "      <td>0</td>\n",
       "      <td>0</td>\n",
       "    </tr>\n",
       "    <tr>\n",
       "      <th>1520639</th>\n",
       "      <td>0</td>\n",
       "      <td>0</td>\n",
       "      <td>0</td>\n",
       "      <td>0</td>\n",
       "      <td>0</td>\n",
       "      <td>0</td>\n",
       "      <td>0</td>\n",
       "      <td>0</td>\n",
       "      <td>0</td>\n",
       "      <td>0</td>\n",
       "      <td>...</td>\n",
       "      <td>0</td>\n",
       "      <td>0</td>\n",
       "      <td>0</td>\n",
       "      <td>0</td>\n",
       "      <td>0</td>\n",
       "      <td>0</td>\n",
       "      <td>0</td>\n",
       "      <td>0</td>\n",
       "      <td>0</td>\n",
       "      <td>0</td>\n",
       "    </tr>\n",
       "    <tr>\n",
       "      <th>...</th>\n",
       "      <td>...</td>\n",
       "      <td>...</td>\n",
       "      <td>...</td>\n",
       "      <td>...</td>\n",
       "      <td>...</td>\n",
       "      <td>...</td>\n",
       "      <td>...</td>\n",
       "      <td>...</td>\n",
       "      <td>...</td>\n",
       "      <td>...</td>\n",
       "      <td>...</td>\n",
       "      <td>...</td>\n",
       "      <td>...</td>\n",
       "      <td>...</td>\n",
       "      <td>...</td>\n",
       "      <td>...</td>\n",
       "      <td>...</td>\n",
       "      <td>...</td>\n",
       "      <td>...</td>\n",
       "      <td>...</td>\n",
       "      <td>...</td>\n",
       "    </tr>\n",
       "    <tr>\n",
       "      <th>919493</th>\n",
       "      <td>0</td>\n",
       "      <td>0</td>\n",
       "      <td>0</td>\n",
       "      <td>0</td>\n",
       "      <td>0</td>\n",
       "      <td>0</td>\n",
       "      <td>0</td>\n",
       "      <td>0</td>\n",
       "      <td>0</td>\n",
       "      <td>0</td>\n",
       "      <td>...</td>\n",
       "      <td>0</td>\n",
       "      <td>0</td>\n",
       "      <td>0</td>\n",
       "      <td>0</td>\n",
       "      <td>0</td>\n",
       "      <td>0</td>\n",
       "      <td>0</td>\n",
       "      <td>0</td>\n",
       "      <td>0</td>\n",
       "      <td>0</td>\n",
       "    </tr>\n",
       "    <tr>\n",
       "      <th>957133</th>\n",
       "      <td>0</td>\n",
       "      <td>0</td>\n",
       "      <td>0</td>\n",
       "      <td>0</td>\n",
       "      <td>0</td>\n",
       "      <td>0</td>\n",
       "      <td>0</td>\n",
       "      <td>0</td>\n",
       "      <td>0</td>\n",
       "      <td>0</td>\n",
       "      <td>...</td>\n",
       "      <td>0</td>\n",
       "      <td>0</td>\n",
       "      <td>0</td>\n",
       "      <td>0</td>\n",
       "      <td>0</td>\n",
       "      <td>0</td>\n",
       "      <td>0</td>\n",
       "      <td>0</td>\n",
       "      <td>0</td>\n",
       "      <td>0</td>\n",
       "    </tr>\n",
       "    <tr>\n",
       "      <th>900391</th>\n",
       "      <td>0</td>\n",
       "      <td>0</td>\n",
       "      <td>0</td>\n",
       "      <td>0</td>\n",
       "      <td>0</td>\n",
       "      <td>0</td>\n",
       "      <td>0</td>\n",
       "      <td>0</td>\n",
       "      <td>0</td>\n",
       "      <td>0</td>\n",
       "      <td>...</td>\n",
       "      <td>0</td>\n",
       "      <td>0</td>\n",
       "      <td>0</td>\n",
       "      <td>0</td>\n",
       "      <td>0</td>\n",
       "      <td>0</td>\n",
       "      <td>0</td>\n",
       "      <td>0</td>\n",
       "      <td>0</td>\n",
       "      <td>0</td>\n",
       "    </tr>\n",
       "    <tr>\n",
       "      <th>1017936</th>\n",
       "      <td>0</td>\n",
       "      <td>0</td>\n",
       "      <td>0</td>\n",
       "      <td>0</td>\n",
       "      <td>0</td>\n",
       "      <td>0</td>\n",
       "      <td>0</td>\n",
       "      <td>0</td>\n",
       "      <td>0</td>\n",
       "      <td>0</td>\n",
       "      <td>...</td>\n",
       "      <td>0</td>\n",
       "      <td>0</td>\n",
       "      <td>0</td>\n",
       "      <td>0</td>\n",
       "      <td>0</td>\n",
       "      <td>0</td>\n",
       "      <td>0</td>\n",
       "      <td>0</td>\n",
       "      <td>0</td>\n",
       "      <td>0</td>\n",
       "    </tr>\n",
       "    <tr>\n",
       "      <th>988752</th>\n",
       "      <td>0</td>\n",
       "      <td>0</td>\n",
       "      <td>0</td>\n",
       "      <td>0</td>\n",
       "      <td>0</td>\n",
       "      <td>0</td>\n",
       "      <td>0</td>\n",
       "      <td>0</td>\n",
       "      <td>0</td>\n",
       "      <td>0</td>\n",
       "      <td>...</td>\n",
       "      <td>0</td>\n",
       "      <td>0</td>\n",
       "      <td>0</td>\n",
       "      <td>0</td>\n",
       "      <td>0</td>\n",
       "      <td>0</td>\n",
       "      <td>0</td>\n",
       "      <td>0</td>\n",
       "      <td>0</td>\n",
       "      <td>0</td>\n",
       "    </tr>\n",
       "  </tbody>\n",
       "</table>\n",
       "<p>100 rows × 32000 columns</p>\n",
       "</div>"
      ],
      "text/plain": [
       "         0      1      2      3      4      5      6      7      8      9      \\\n",
       "836392       0      0      0      0      0      0      0      0      0      0   \n",
       "1835024      0      0      0      0      0      0      0      0      0      0   \n",
       "829337       0      0      0      0      0      0      0      0      0      0   \n",
       "1020194      0      0      0      0      0      0      0      0      0      0   \n",
       "1520639      0      0      0      0      0      0      0      0      0      0   \n",
       "...        ...    ...    ...    ...    ...    ...    ...    ...    ...    ...   \n",
       "919493       0      0      0      0      0      0      0      0      0      0   \n",
       "957133       0      0      0      0      0      0      0      0      0      0   \n",
       "900391       0      0      0      0      0      0      0      0      0      0   \n",
       "1017936      0      0      0      0      0      0      0      0      0      0   \n",
       "988752       0      0      0      0      0      0      0      0      0      0   \n",
       "\n",
       "         ...  31990  31991  31992  31993  31994  31995  31996  31997  31998  \\\n",
       "836392   ...      0      0      0      0      0      0      0      0      0   \n",
       "1835024  ...      0      0      0      0      0      0      0      0      0   \n",
       "829337   ...      0      0      0      0      0      0      0      0      0   \n",
       "1020194  ...      0      0      0      0      0      0      0      0      0   \n",
       "1520639  ...      0      0      0      0      0      0      0      0      0   \n",
       "...      ...    ...    ...    ...    ...    ...    ...    ...    ...    ...   \n",
       "919493   ...      0      0      0      0      0      0      0      0      0   \n",
       "957133   ...      0      0      0      0      0      0      0      0      0   \n",
       "900391   ...      0      0      0      0      0      0      0      0      0   \n",
       "1017936  ...      0      0      0      0      0      0      0      0      0   \n",
       "988752   ...      0      0      0      0      0      0      0      0      0   \n",
       "\n",
       "         31999  \n",
       "836392       0  \n",
       "1835024      0  \n",
       "829337       0  \n",
       "1020194      0  \n",
       "1520639      0  \n",
       "...        ...  \n",
       "919493       0  \n",
       "957133       0  \n",
       "900391       0  \n",
       "1017936      0  \n",
       "988752       0  \n",
       "\n",
       "[100 rows x 32000 columns]"
      ]
     },
     "execution_count": 14,
     "metadata": {},
     "output_type": "execute_result"
    }
   ],
   "source": [
    "x_dataframe_test"
   ]
  },
  {
   "cell_type": "markdown",
   "id": "d71544f9-aac8-4c54-8288-28721ebee568",
   "metadata": {},
   "source": [
    "load the reference x_csr matrix"
   ]
  },
  {
   "cell_type": "code",
   "execution_count": 15,
   "id": "b372297b-e707-4f12-bba9-0da38f2ef720",
   "metadata": {},
   "outputs": [],
   "source": [
    "x_csr_ref = load_npz(os.path.join(test_path,\"mt_output/pred_x.npz\"))"
   ]
  },
  {
   "cell_type": "code",
   "execution_count": 16,
   "id": "1b535746-88d6-4a37-a443-b31be0db1da2",
   "metadata": {},
   "outputs": [],
   "source": [
    "x_ndarray_ref = x_csr_ref.toarray()"
   ]
  },
  {
   "cell_type": "code",
   "execution_count": 17,
   "id": "77cb8c58-4fd8-4d6a-81d8-5795f0c48fba",
   "metadata": {},
   "outputs": [
    {
     "data": {
      "text/html": [
       "<div>\n",
       "<style scoped>\n",
       "    .dataframe tbody tr th:only-of-type {\n",
       "        vertical-align: middle;\n",
       "    }\n",
       "\n",
       "    .dataframe tbody tr th {\n",
       "        vertical-align: top;\n",
       "    }\n",
       "\n",
       "    .dataframe thead th {\n",
       "        text-align: right;\n",
       "    }\n",
       "</style>\n",
       "<table border=\"1\" class=\"dataframe\">\n",
       "  <thead>\n",
       "    <tr style=\"text-align: right;\">\n",
       "      <th></th>\n",
       "      <th>0</th>\n",
       "      <th>1</th>\n",
       "      <th>2</th>\n",
       "      <th>3</th>\n",
       "      <th>4</th>\n",
       "      <th>5</th>\n",
       "      <th>6</th>\n",
       "      <th>7</th>\n",
       "      <th>8</th>\n",
       "      <th>9</th>\n",
       "      <th>...</th>\n",
       "      <th>31990</th>\n",
       "      <th>31991</th>\n",
       "      <th>31992</th>\n",
       "      <th>31993</th>\n",
       "      <th>31994</th>\n",
       "      <th>31995</th>\n",
       "      <th>31996</th>\n",
       "      <th>31997</th>\n",
       "      <th>31998</th>\n",
       "      <th>31999</th>\n",
       "    </tr>\n",
       "  </thead>\n",
       "  <tbody>\n",
       "    <tr>\n",
       "      <th>3049</th>\n",
       "      <td>0</td>\n",
       "      <td>0</td>\n",
       "      <td>0</td>\n",
       "      <td>0</td>\n",
       "      <td>0</td>\n",
       "      <td>0</td>\n",
       "      <td>0</td>\n",
       "      <td>0</td>\n",
       "      <td>0</td>\n",
       "      <td>0</td>\n",
       "      <td>...</td>\n",
       "      <td>0</td>\n",
       "      <td>0</td>\n",
       "      <td>0</td>\n",
       "      <td>0</td>\n",
       "      <td>0</td>\n",
       "      <td>0</td>\n",
       "      <td>0</td>\n",
       "      <td>0</td>\n",
       "      <td>0</td>\n",
       "      <td>0</td>\n",
       "    </tr>\n",
       "    <tr>\n",
       "      <th>9191</th>\n",
       "      <td>0</td>\n",
       "      <td>0</td>\n",
       "      <td>0</td>\n",
       "      <td>0</td>\n",
       "      <td>0</td>\n",
       "      <td>0</td>\n",
       "      <td>0</td>\n",
       "      <td>0</td>\n",
       "      <td>0</td>\n",
       "      <td>0</td>\n",
       "      <td>...</td>\n",
       "      <td>0</td>\n",
       "      <td>0</td>\n",
       "      <td>0</td>\n",
       "      <td>0</td>\n",
       "      <td>0</td>\n",
       "      <td>0</td>\n",
       "      <td>0</td>\n",
       "      <td>0</td>\n",
       "      <td>0</td>\n",
       "      <td>0</td>\n",
       "    </tr>\n",
       "    <tr>\n",
       "      <th>66045</th>\n",
       "      <td>0</td>\n",
       "      <td>0</td>\n",
       "      <td>0</td>\n",
       "      <td>0</td>\n",
       "      <td>0</td>\n",
       "      <td>0</td>\n",
       "      <td>0</td>\n",
       "      <td>0</td>\n",
       "      <td>0</td>\n",
       "      <td>0</td>\n",
       "      <td>...</td>\n",
       "      <td>0</td>\n",
       "      <td>0</td>\n",
       "      <td>0</td>\n",
       "      <td>0</td>\n",
       "      <td>0</td>\n",
       "      <td>0</td>\n",
       "      <td>0</td>\n",
       "      <td>0</td>\n",
       "      <td>0</td>\n",
       "      <td>0</td>\n",
       "    </tr>\n",
       "    <tr>\n",
       "      <th>114698</th>\n",
       "      <td>0</td>\n",
       "      <td>0</td>\n",
       "      <td>0</td>\n",
       "      <td>0</td>\n",
       "      <td>0</td>\n",
       "      <td>0</td>\n",
       "      <td>0</td>\n",
       "      <td>0</td>\n",
       "      <td>0</td>\n",
       "      <td>0</td>\n",
       "      <td>...</td>\n",
       "      <td>0</td>\n",
       "      <td>0</td>\n",
       "      <td>0</td>\n",
       "      <td>0</td>\n",
       "      <td>0</td>\n",
       "      <td>0</td>\n",
       "      <td>0</td>\n",
       "      <td>0</td>\n",
       "      <td>0</td>\n",
       "      <td>0</td>\n",
       "    </tr>\n",
       "    <tr>\n",
       "      <th>232954</th>\n",
       "      <td>0</td>\n",
       "      <td>0</td>\n",
       "      <td>0</td>\n",
       "      <td>0</td>\n",
       "      <td>0</td>\n",
       "      <td>0</td>\n",
       "      <td>0</td>\n",
       "      <td>0</td>\n",
       "      <td>0</td>\n",
       "      <td>0</td>\n",
       "      <td>...</td>\n",
       "      <td>0</td>\n",
       "      <td>0</td>\n",
       "      <td>0</td>\n",
       "      <td>0</td>\n",
       "      <td>0</td>\n",
       "      <td>0</td>\n",
       "      <td>0</td>\n",
       "      <td>0</td>\n",
       "      <td>0</td>\n",
       "      <td>0</td>\n",
       "    </tr>\n",
       "    <tr>\n",
       "      <th>...</th>\n",
       "      <td>...</td>\n",
       "      <td>...</td>\n",
       "      <td>...</td>\n",
       "      <td>...</td>\n",
       "      <td>...</td>\n",
       "      <td>...</td>\n",
       "      <td>...</td>\n",
       "      <td>...</td>\n",
       "      <td>...</td>\n",
       "      <td>...</td>\n",
       "      <td>...</td>\n",
       "      <td>...</td>\n",
       "      <td>...</td>\n",
       "      <td>...</td>\n",
       "      <td>...</td>\n",
       "      <td>...</td>\n",
       "      <td>...</td>\n",
       "      <td>...</td>\n",
       "      <td>...</td>\n",
       "      <td>...</td>\n",
       "      <td>...</td>\n",
       "    </tr>\n",
       "    <tr>\n",
       "      <th>2191976</th>\n",
       "      <td>0</td>\n",
       "      <td>0</td>\n",
       "      <td>0</td>\n",
       "      <td>0</td>\n",
       "      <td>0</td>\n",
       "      <td>0</td>\n",
       "      <td>0</td>\n",
       "      <td>0</td>\n",
       "      <td>0</td>\n",
       "      <td>0</td>\n",
       "      <td>...</td>\n",
       "      <td>0</td>\n",
       "      <td>0</td>\n",
       "      <td>0</td>\n",
       "      <td>0</td>\n",
       "      <td>0</td>\n",
       "      <td>0</td>\n",
       "      <td>0</td>\n",
       "      <td>0</td>\n",
       "      <td>0</td>\n",
       "      <td>0</td>\n",
       "    </tr>\n",
       "    <tr>\n",
       "      <th>2202594</th>\n",
       "      <td>0</td>\n",
       "      <td>0</td>\n",
       "      <td>0</td>\n",
       "      <td>0</td>\n",
       "      <td>0</td>\n",
       "      <td>0</td>\n",
       "      <td>0</td>\n",
       "      <td>0</td>\n",
       "      <td>0</td>\n",
       "      <td>0</td>\n",
       "      <td>...</td>\n",
       "      <td>0</td>\n",
       "      <td>0</td>\n",
       "      <td>0</td>\n",
       "      <td>0</td>\n",
       "      <td>0</td>\n",
       "      <td>0</td>\n",
       "      <td>0</td>\n",
       "      <td>0</td>\n",
       "      <td>0</td>\n",
       "      <td>0</td>\n",
       "    </tr>\n",
       "    <tr>\n",
       "      <th>2219702</th>\n",
       "      <td>0</td>\n",
       "      <td>0</td>\n",
       "      <td>0</td>\n",
       "      <td>0</td>\n",
       "      <td>0</td>\n",
       "      <td>0</td>\n",
       "      <td>0</td>\n",
       "      <td>0</td>\n",
       "      <td>0</td>\n",
       "      <td>0</td>\n",
       "      <td>...</td>\n",
       "      <td>0</td>\n",
       "      <td>0</td>\n",
       "      <td>0</td>\n",
       "      <td>0</td>\n",
       "      <td>0</td>\n",
       "      <td>0</td>\n",
       "      <td>0</td>\n",
       "      <td>0</td>\n",
       "      <td>0</td>\n",
       "      <td>0</td>\n",
       "    </tr>\n",
       "    <tr>\n",
       "      <th>2247898</th>\n",
       "      <td>0</td>\n",
       "      <td>0</td>\n",
       "      <td>0</td>\n",
       "      <td>0</td>\n",
       "      <td>0</td>\n",
       "      <td>0</td>\n",
       "      <td>0</td>\n",
       "      <td>0</td>\n",
       "      <td>0</td>\n",
       "      <td>0</td>\n",
       "      <td>...</td>\n",
       "      <td>0</td>\n",
       "      <td>0</td>\n",
       "      <td>0</td>\n",
       "      <td>0</td>\n",
       "      <td>0</td>\n",
       "      <td>0</td>\n",
       "      <td>0</td>\n",
       "      <td>0</td>\n",
       "      <td>0</td>\n",
       "      <td>0</td>\n",
       "    </tr>\n",
       "    <tr>\n",
       "      <th>2253205</th>\n",
       "      <td>0</td>\n",
       "      <td>0</td>\n",
       "      <td>0</td>\n",
       "      <td>0</td>\n",
       "      <td>0</td>\n",
       "      <td>0</td>\n",
       "      <td>0</td>\n",
       "      <td>0</td>\n",
       "      <td>0</td>\n",
       "      <td>0</td>\n",
       "      <td>...</td>\n",
       "      <td>0</td>\n",
       "      <td>0</td>\n",
       "      <td>0</td>\n",
       "      <td>0</td>\n",
       "      <td>0</td>\n",
       "      <td>0</td>\n",
       "      <td>0</td>\n",
       "      <td>0</td>\n",
       "      <td>0</td>\n",
       "      <td>0</td>\n",
       "    </tr>\n",
       "  </tbody>\n",
       "</table>\n",
       "<p>100 rows × 32000 columns</p>\n",
       "</div>"
      ],
      "text/plain": [
       "         0      1      2      3      4      5      6      7      8      9      \\\n",
       "3049         0      0      0      0      0      0      0      0      0      0   \n",
       "9191         0      0      0      0      0      0      0      0      0      0   \n",
       "66045        0      0      0      0      0      0      0      0      0      0   \n",
       "114698       0      0      0      0      0      0      0      0      0      0   \n",
       "232954       0      0      0      0      0      0      0      0      0      0   \n",
       "...        ...    ...    ...    ...    ...    ...    ...    ...    ...    ...   \n",
       "2191976      0      0      0      0      0      0      0      0      0      0   \n",
       "2202594      0      0      0      0      0      0      0      0      0      0   \n",
       "2219702      0      0      0      0      0      0      0      0      0      0   \n",
       "2247898      0      0      0      0      0      0      0      0      0      0   \n",
       "2253205      0      0      0      0      0      0      0      0      0      0   \n",
       "\n",
       "         ...  31990  31991  31992  31993  31994  31995  31996  31997  31998  \\\n",
       "3049     ...      0      0      0      0      0      0      0      0      0   \n",
       "9191     ...      0      0      0      0      0      0      0      0      0   \n",
       "66045    ...      0      0      0      0      0      0      0      0      0   \n",
       "114698   ...      0      0      0      0      0      0      0      0      0   \n",
       "232954   ...      0      0      0      0      0      0      0      0      0   \n",
       "...      ...    ...    ...    ...    ...    ...    ...    ...    ...    ...   \n",
       "2191976  ...      0      0      0      0      0      0      0      0      0   \n",
       "2202594  ...      0      0      0      0      0      0      0      0      0   \n",
       "2219702  ...      0      0      0      0      0      0      0      0      0   \n",
       "2247898  ...      0      0      0      0      0      0      0      0      0   \n",
       "2253205  ...      0      0      0      0      0      0      0      0      0   \n",
       "\n",
       "         31999  \n",
       "3049         0  \n",
       "9191         0  \n",
       "66045        0  \n",
       "114698       0  \n",
       "232954       0  \n",
       "...        ...  \n",
       "2191976      0  \n",
       "2202594      0  \n",
       "2219702      0  \n",
       "2247898      0  \n",
       "2253205      0  \n",
       "\n",
       "[100 rows x 32000 columns]"
      ]
     },
     "execution_count": 17,
     "metadata": {},
     "output_type": "execute_result"
    }
   ],
   "source": [
    "x_dataframe_ref = pd.DataFrame(x_ndarray_ref).rename(index=mapping_table.set_index(\"cont_descriptor_vector_id\")[\"input_compound_id\"])\n",
    "x_dataframe_ref"
   ]
  },
  {
   "cell_type": "markdown",
   "id": "6b0c5c82-6b9e-4300-a25e-3dae5da972ba",
   "metadata": {},
   "source": [
    "compare x-matrices"
   ]
  },
  {
   "cell_type": "code",
   "execution_count": 18,
   "id": "8f9fe9a4-020e-42cd-a9ca-20fb0f26737d",
   "metadata": {},
   "outputs": [
    {
     "data": {
      "text/plain": [
       "True"
      ]
     },
     "execution_count": 18,
     "metadata": {},
     "output_type": "execute_result"
    }
   ],
   "source": [
    "x_mat_test = np.equal(x_dataframe_test.sort_index().values, x_dataframe_ref.sort_index().values).all()\n",
    "x_mat_test"
   ]
  },
  {
   "cell_type": "markdown",
   "id": "ebc74718-f3da-4c5f-b27c-df92023dd01a",
   "metadata": {},
   "source": [
    "### Test the predictions"
   ]
  },
  {
   "cell_type": "markdown",
   "id": "b04cd539-20d1-487e-bec8-ce371030faac",
   "metadata": {},
   "source": [
    "Define some task slices for testing"
   ]
  },
  {
   "cell_type": "code",
   "execution_count": 19,
   "id": "d0cc9d05-8355-46e3-942f-321a2a3c324a",
   "metadata": {},
   "outputs": [],
   "source": [
    "class_task_map = {'class_570':570,'class_581':581,'class_2276':2276}\n",
    "regr_task_map = {\"regr_633\":633,\"regr_740\":740,\"regr_2\":2}"
   ]
  },
  {
   "cell_type": "code",
   "execution_count": 20,
   "id": "8f1e0cbd-c158-4d6b-90be-b709ce6d9e5f",
   "metadata": {},
   "outputs": [],
   "source": [
    "my_preds = {'cls' : PredictorSingle(model= os.path.join(model_path,\"example_cls_model/model.pth\"), conf=os.path.join(model_path,\"example_cls_model/hyperparameters.json\"), class_task_map = class_task_map),\\\n",
    "           'clsaux' : PredictorSingle(model= os.path.join(model_path,\"example_clsaux_model/model.pth\"), conf=os.path.join(model_path,\"example_clsaux_model/hyperparameters.json\"), class_task_map = class_task_map),\\\n",
    "           'reg' : PredictorSingle(model= os.path.join(model_path,\"example_reg_model/model.pth\"), conf=os.path.join(model_path,\"example_reg_model/hyperparameters.json\"), regr_task_map = regr_task_map),\\\n",
    "           'hyb' : PredictorSingle(model= os.path.join(model_path,\"example_hyb_model/model.pth\"), conf=os.path.join(model_path,\"example_hyb_model/hyperparameters.json\"), class_task_map = class_task_map, regr_task_map = regr_task_map)\n",
    "          }"
   ]
  },
  {
   "cell_type": "code",
   "execution_count": 21,
   "id": "2b14b1ba-2cb5-4b27-b359-714a8d3da029",
   "metadata": {},
   "outputs": [],
   "source": [
    "cls_res = {}\n",
    "reg_res = {}\n",
    "for mtype, my_pred in my_preds.items():\n",
    "    for ix, x_tens in x_tensors_test.items():\n",
    "        y_class_array, y_regr_array = my_pred.predict_from_tensor(x_tens)\n",
    "        if y_class_array.shape[1] > 0:\n",
    "            if not mtype in cls_res:\n",
    "                cls_res[mtype] = {}\n",
    "            cls_res[mtype][ix] = y_class_array\n",
    "        if y_regr_array.shape[1] > 0:\n",
    "            if not mtype in reg_res:\n",
    "                reg_res[mtype] = {}\n",
    "            reg_res[mtype][ix] = y_regr_array\n",
    "    "
   ]
  },
  {
   "cell_type": "code",
   "execution_count": 22,
   "id": "d93a157c-7fc7-40ea-a802-1b5eb2fd5068",
   "metadata": {},
   "outputs": [
    {
     "data": {
      "text/plain": [
       "dict_keys(['cls', 'clsaux', 'hyb'])"
      ]
     },
     "execution_count": 22,
     "metadata": {},
     "output_type": "execute_result"
    }
   ],
   "source": [
    "cls_res.keys()"
   ]
  },
  {
   "cell_type": "code",
   "execution_count": 23,
   "id": "c398fc73-b3a2-4970-bb33-faeec2ccefd2",
   "metadata": {},
   "outputs": [],
   "source": [
    "cls_res_df_test = {mtype : pd.concat({i: pd.Series(j[0]) for i,j in cls_res[mtype].items()}).unstack() for mtype in cls_res.keys()}\n",
    "reg_res_df_test = {mtype : pd.concat({i: pd.Series(j[0]) for i,j in reg_res[mtype].items()}).unstack() for mtype in reg_res.keys()}"
   ]
  },
  {
   "cell_type": "markdown",
   "id": "e71e3d09-1dc6-42c8-8ad3-88a2c0f42112",
   "metadata": {},
   "source": [
    "Read in reference prediction output"
   ]
  },
  {
   "cell_type": "code",
   "execution_count": 24,
   "id": "d306852a-0fef-48c6-8141-6c1cc41bcfdf",
   "metadata": {},
   "outputs": [],
   "source": [
    "y_refs_class = {\"cls\":np.load(os.path.join(test_path,\"sc_output/cls_model-class.npy\")),\\\n",
    "                \"clsaux\": np.load(os.path.join(test_path,\"sc_output/clsaux_model-class.npy\")),\\\n",
    "                \"hyb\": np.load(os.path.join(test_path,\"sc_output/hyb_model-class.npy\"))}\n",
    "y_refs_regr = {\"reg\": np.load(os.path.join(test_path,\"sc_output/reg_model-regr.npy\")),\\\n",
    "               \"hyb\": np.load(os.path.join(test_path,\"sc_output/hyb_model-regr.npy\"))}"
   ]
  },
  {
   "cell_type": "code",
   "execution_count": 25,
   "id": "d02de158-75c1-4e94-9c75-82e54ad91000",
   "metadata": {},
   "outputs": [],
   "source": [
    "y_refs_class_dfs = {mtype : pd.DataFrame(y).rename(index=mapping_table.set_index(\"cont_descriptor_vector_id\")[\"input_compound_id\"]) for mtype, y in y_refs_class.items()}\n",
    "y_refs_regr_dfs = {mtype : pd.DataFrame(y).rename(index=mapping_table.set_index(\"cont_descriptor_vector_id\")[\"input_compound_id\"]) for mtype, y in y_refs_regr.items()}"
   ]
  },
  {
   "cell_type": "code",
   "execution_count": 26,
   "id": "63a08481-dd9b-4139-86a7-9d0d29e74846",
   "metadata": {},
   "outputs": [
    {
     "data": {
      "text/plain": [
       "{'cls': True, 'clsaux': True, 'hyb': True}"
      ]
     },
     "execution_count": 26,
     "metadata": {},
     "output_type": "execute_result"
    }
   ],
   "source": [
    "res_class = {mtype : np.allclose(y_df_test.sort_index().values,y_refs_class_dfs[mtype].sort_index().values) for mtype, y_df_test in cls_res_df_test.items()}\n",
    "res_class"
   ]
  },
  {
   "cell_type": "markdown",
   "id": "0ca83694-628e-4d8a-876a-934931e7abe6",
   "metadata": {},
   "source": [
    "We reproduce the classification predictions exactly, as values above a true"
   ]
  },
  {
   "cell_type": "code",
   "execution_count": 27,
   "id": "0d3ac8dd-7d24-4a62-9537-b559fe3acf9a",
   "metadata": {},
   "outputs": [
    {
     "data": {
      "text/plain": [
       "{'reg': False, 'hyb': False}"
      ]
     },
     "execution_count": 27,
     "metadata": {},
     "output_type": "execute_result"
    }
   ],
   "source": [
    "res_regr = {mtype : np.allclose(y_df_test.sort_index().values,y_refs_regr_dfs[mtype].sort_index().values) for mtype, y_df_test in reg_res_df_test.items()}\n",
    "res_regr"
   ]
  },
  {
   "cell_type": "markdown",
   "id": "c6bae9b0-44ce-4395-a45d-6644599caaf4",
   "metadata": {},
   "source": [
    "We fail however to reproduce regression results, as the values above are false. This could be due to sparsechem issue https://github.com/melloddy/SparseChem/issues/5, meaning that the dense predictions from predict.py are not inversely normnalized. Let's try to normalize those reference predictions ourselves and then retry"
   ]
  },
  {
   "cell_type": "code",
   "execution_count": 28,
   "id": "19d74037-8dab-4706-9f37-45f1f4e0399c",
   "metadata": {},
   "outputs": [],
   "source": [
    "y_refs_regr_inorm_dfs = {mtype : y*my_preds[mtype].reg_stddev + my_preds[mtype].reg_mean for mtype,y in y_refs_regr_dfs.items()}"
   ]
  },
  {
   "cell_type": "code",
   "execution_count": 29,
   "id": "874877df-2ec8-428c-92b9-cf3503729533",
   "metadata": {},
   "outputs": [],
   "source": [
    "y_refs_regr_inorm = {mtype : y*my_preds[mtype].reg_stddev + my_preds[mtype].reg_mean for mtype,y in y_refs_regr.items()}"
   ]
  },
  {
   "cell_type": "code",
   "execution_count": 30,
   "id": "93120157-a678-4fbd-8e45-d3fa2edde5cd",
   "metadata": {},
   "outputs": [
    {
     "data": {
      "text/plain": [
       "{'reg': False, 'hyb': False}"
      ]
     },
     "execution_count": 30,
     "metadata": {},
     "output_type": "execute_result"
    }
   ],
   "source": [
    "res_regr_inorm = {mtype : np.allclose(y_df_test.sort_index().values,y_refs_regr_inorm_dfs[mtype].sort_index().values) for mtype, y_df_test in reg_res_df_test.items()}\n",
    "res_regr_inorm"
   ]
  },
  {
   "cell_type": "markdown",
   "id": "4458a980-1008-49a2-98ba-cb8eb0bcd9b6",
   "metadata": {},
   "source": [
    "Still not working!!"
   ]
  },
  {
   "cell_type": "code",
   "execution_count": 32,
   "id": "4195b6fb-1032-40bb-b794-cc2c17b16691",
   "metadata": {},
   "outputs": [],
   "source": [
    "colmask = ((reg_res_df_test['reg'] > 10) | (reg_res_df_test['reg'] < 3)).sum(axis=0) == 0"
   ]
  },
  {
   "cell_type": "code",
   "execution_count": 33,
   "id": "e23241f7-7332-4313-b1f1-6ba855636c3f",
   "metadata": {},
   "outputs": [
    {
     "data": {
      "text/plain": [
       "{'reg': True, 'hyb': True}"
      ]
     },
     "execution_count": 33,
     "metadata": {},
     "output_type": "execute_result"
    }
   ],
   "source": [
    "res_regr_inorm = {mtype : np.allclose(y_df_test.sort_index().values[:,colmask],y_refs_regr_inorm_dfs[mtype].sort_index().values[:,colmask]) for mtype, y_df_test in reg_res_df_test.items()}\n",
    "res_regr_inorm"
   ]
  },
  {
   "cell_type": "markdown",
   "id": "868e1e0b-e9bc-4083-b9b7-8d15003b04e9",
   "metadata": {},
   "source": [
    "### Test single row predictor object"
   ]
  },
  {
   "cell_type": "code",
   "execution_count": null,
   "id": "d95ca1f6-2ebd-4b2b-b200-c91d6640317a",
   "metadata": {},
   "outputs": [],
   "source": [
    "%%time\n",
    "y_res_slice = {}\n",
    "for k,smi in smiles_df.set_index(\"input_compound_id\")[\"smiles\"].items():\n",
    "    try: \n",
    "        x = my_srprep.process_smiles(smi)\n",
    "        y = my_preds[\"hyb\"].predict_decorated_series_from_tensor(x)\n",
    "        y_res_slice[k] = y\n",
    "    except Error as e:\n",
    "        print(\"prediction for {0} raised and error {1}\".format(k, e.str()))\n"
   ]
  },
  {
   "cell_type": "code",
   "execution_count": null,
   "id": "cee43d37-84f1-49d4-af32-37fa155e7f4f",
   "metadata": {},
   "outputs": [],
   "source": [
    "res_slice_df = pd.concat(y_res_slice).unstack()\n",
    "res_slice_df.index.names = ['input_compound_id']\n",
    "res_slice_df.to_csv(os.path.join(test_path,\"selected_hyb_tasks.csv\"),index=True)\n"
   ]
  },
  {
   "cell_type": "code",
   "execution_count": null,
   "id": "ed42bc45-e2be-4dfe-bbba-58028b298e85",
   "metadata": {},
   "outputs": [],
   "source": [
    "res_slice_df"
   ]
  },
  {
   "cell_type": "code",
   "execution_count": null,
   "id": "d0c3b51b-31f4-4971-a63b-e698df3db9bc",
   "metadata": {},
   "outputs": [],
   "source": [
    "pd.read_csv(os.path.join(test_path,\"selected_hyb_tasks.csv\"),index_col = \"input_compound_id\")"
   ]
  },
  {
   "cell_type": "code",
   "execution_count": null,
   "id": "491f8c70-c742-4493-8077-3f73bf09cc15",
   "metadata": {},
   "outputs": [],
   "source": [
    "smiles_failing_df = pd.read_csv(os.path.join(test_path,\"T2_100samples_failing.csv\"))\n",
    "smiles_failing_df.head()"
   ]
  },
  {
   "cell_type": "code",
   "execution_count": null,
   "id": "b1290329-a362-4060-a4af-906f221ff51d",
   "metadata": {},
   "outputs": [],
   "source": [
    "%%time\n",
    "y_failing_res_slice = {}\n",
    "for k,smi in smiles_failing_df.set_index(\"input_compound_id\")[\"smiles\"].items():\n",
    "    try: \n",
    "        x = my_srprep.process_smiles(smi)\n",
    "        y = my_preds[\"hyb\"].predict_decorated_series_from_tensor(x)\n",
    "        y_failing_res_slice[k] = y\n",
    "    except Exception as e:\n",
    "        print(\"prediction for {0} raised an {1}: {2}\".format(k, type(e), e))\n"
   ]
  },
  {
   "cell_type": "code",
   "execution_count": null,
   "id": "6626435f-41b6-4757-9c44-43d6783460fa",
   "metadata": {},
   "outputs": [],
   "source": [
    "pd.concat(y_failing_res_slice).unstack()"
   ]
  },
  {
   "cell_type": "code",
   "execution_count": null,
   "id": "dbb9a624-7d20-4c03-a44a-4eed23c8b1c1",
   "metadata": {},
   "outputs": [],
   "source": [
    "my_srprep_trusting = SingleRowPreparator(params_file, key_file, trust_standardization = True)"
   ]
  },
  {
   "cell_type": "code",
   "execution_count": null,
   "id": "4ed00c74-629f-4431-9a32-402b2318c489",
   "metadata": {},
   "outputs": [],
   "source": [
    "%%time\n",
    "y_trusting_res_slice = {}\n",
    "for k,smi in smiles_df.set_index(\"input_compound_id\")[\"smiles\"].items():\n",
    "    try: \n",
    "        x = my_srprep_trusting.process_smiles(smi)\n",
    "        y = my_preds[\"hyb\"].predict_decorated_series_from_tensor(x)\n",
    "        y_trusting_res_slice[k] = y\n",
    "    except Exception as e:\n",
    "        print(\"prediction for {0} raised and error {1}\".format(k, e))\n"
   ]
  },
  {
   "cell_type": "code",
   "execution_count": null,
   "id": "c8225ba2-2d87-4583-be44-478cbefad6c0",
   "metadata": {},
   "outputs": [],
   "source": [
    "pd.concat(y_trusting_res_slice).unstack() - pd.concat(y_res_slice).unstack()"
   ]
  },
  {
   "cell_type": "code",
   "execution_count": null,
   "id": "415838c7-8a35-47bb-a144-4129eddfa313",
   "metadata": {},
   "outputs": [],
   "source": [
    "pd.read_csv(os.path.join(mt_out_folder,\"mapping_table.csv\"))"
   ]
  },
  {
   "cell_type": "code",
   "execution_count": null,
   "id": "29ea339c-cd1f-4257-b941-5884f1ed7f0f",
   "metadata": {},
   "outputs": [],
   "source": [
    "y_refs_selected_class_tasks = y_refs_class[\"hyb\"][:,np.array(list(class_task_map.values()))]\n",
    "y_refs_selected_regr_tasks = y_refs_regr_inorm[\"hyb\"][:,np.array(list(regr_task_map.values()))]"
   ]
  },
  {
   "cell_type": "code",
   "execution_count": null,
   "id": "0baefd9e-a9f0-4ec8-9302-4ef29351bbd1",
   "metadata": {},
   "outputs": [],
   "source": [
    "y_refs_select_class_df = pd.DataFrame(y_refs_selected_class_tasks, columns = list(class_task_map.keys())).rename(index=mapping_table.set_index(\"cont_descriptor_vector_id\")[\"input_compound_id\"])\n",
    "y_refs_select_class_df "
   ]
  },
  {
   "cell_type": "code",
   "execution_count": null,
   "id": "56ea0ba1-b22e-4a30-bfb9-3c7819974acd",
   "metadata": {},
   "outputs": [],
   "source": [
    "y_refs_select_regr_df = pd.DataFrame(y_refs_selected_regr_tasks, columns = list(regr_task_map.keys())).rename(index=mapping_table.set_index(\"cont_descriptor_vector_id\")[\"input_compound_id\"])\n",
    "y_refs_select_regr_df "
   ]
  },
  {
   "cell_type": "code",
   "execution_count": null,
   "id": "74d311c9-dcdb-41a5-af28-d7815f7396cf",
   "metadata": {},
   "outputs": [],
   "source": [
    "res_slice_ref_df = pd.concat([y_refs_select_class_df, y_refs_select_regr_df],axis=1)\n",
    "res_slice_ref_df.sort_index()"
   ]
  },
  {
   "cell_type": "code",
   "execution_count": null,
   "id": "e9815c6e-e1a0-495e-9337-e3e6d263962f",
   "metadata": {},
   "outputs": [],
   "source": [
    "from pandas._testing import assert_frame_equal"
   ]
  },
  {
   "cell_type": "code",
   "execution_count": null,
   "id": "35e80987-8e3d-416a-adb9-93ed574e7b97",
   "metadata": {},
   "outputs": [],
   "source": [
    "assert_frame_equal(res_slice_df.sort_index().astype(\"float32\"), res_slice_ref_df.sort_index().astype(\"float32\"))"
   ]
  }
 ],
 "metadata": {
  "kernelspec": {
   "display_name": "melloddy_pipeline_dev",
   "language": "python",
   "name": "melloddy_pipeline_dev"
  },
  "language_info": {
   "codemirror_mode": {
    "name": "ipython",
    "version": 3
   },
   "file_extension": ".py",
   "mimetype": "text/x-python",
   "name": "python",
   "nbconvert_exporter": "python",
   "pygments_lexer": "ipython3",
   "version": "3.8.2"
  }
 },
 "nbformat": 4,
 "nbformat_minor": 5
}
